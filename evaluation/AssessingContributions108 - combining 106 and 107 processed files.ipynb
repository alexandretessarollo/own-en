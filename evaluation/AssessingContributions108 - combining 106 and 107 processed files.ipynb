{
 "cells": [
  {
   "cell_type": "markdown",
   "metadata": {},
   "source": [
    "# This takes circa 25min, run all and go for a coffee"
   ]
  },
  {
   "cell_type": "code",
   "execution_count": null,
   "metadata": {},
   "outputs": [],
   "source": [
    "import nltk, re, pprint\n",
    "from nltk import word_tokenize\n",
    "from urllib import request\n",
    "import time\n",
    "import os"
   ]
  },
  {
   "cell_type": "code",
   "execution_count": null,
   "metadata": {},
   "outputs": [],
   "source": [
    "full_time = time.time()"
   ]
  },
  {
   "cell_type": "code",
   "execution_count": null,
   "metadata": {},
   "outputs": [],
   "source": [
    "#path to our rocks and geotimes files\n",
    "locrock_path = os.path.expanduser(\"~/Desktop/locucionsRocks.dat\")\n",
    "locgeo_path = os.path.expanduser(\"~/Desktop/locucionsGeotimes.dat\")\n",
    "sensesrock_path = os.path.expanduser(\"~/Desktop/senses30Rocks.src\")\n",
    "sensesgeo_path = os.path.expanduser(\"~/Desktop/senses30Geotimes.src\")\n",
    "xwnrock_path = os.path.expanduser(\"~/Desktop/xwnRocks.dat\")\n",
    "xwngeo_path = os.path.expanduser(\"~/Desktop/xwnGeotimes.dat\")"
   ]
  },
  {
   "cell_type": "code",
   "execution_count": null,
   "metadata": {},
   "outputs": [],
   "source": [
    "#url = 'https://raw.githubusercontent.com/alexandretessarollo/own-en/master/src/noun.time'\n",
    "\n",
    "#response = request.urlopen(url)\n",
    "#raw = response.read().decode('utf8')\n",
    "#subsAT = nltk.line_tokenize(raw)"
   ]
  },
  {
   "cell_type": "code",
   "execution_count": null,
   "metadata": {},
   "outputs": [],
   "source": [
    "#f = open(os.path.expanduser(\"~/Desktop/locucionsPYTHON.dat\"), 'w')\n",
    "#f.write(locORIG_final_WNAT)\n",
    "#f.close()\n",
    "\n",
    "#f = open(os.path.expanduser(\"~/Desktop/senses30Python.src\"))\n",
    "#sensesnew = f.read()"
   ]
  },
  {
   "cell_type": "code",
   "execution_count": null,
   "metadata": {},
   "outputs": [],
   "source": [
    "f = open(locrock_path)\n",
    "locrock_raw = f.read()\n",
    "f = open(locgeo_path)\n",
    "locgeo_raw = f.read()\n",
    "\n",
    "f = open(sensesrock_path)\n",
    "sensesrock_raw = f.read()\n",
    "f = open(sensesgeo_path)\n",
    "sensesgeo_raw = f.read()\n",
    "\n",
    "f = open(xwnrock_path)\n",
    "xwnrock_raw = f.read()\n",
    "f = open(xwngeo_path)\n",
    "xwngeo_raw = f.read()"
   ]
  },
  {
   "cell_type": "markdown",
   "metadata": {},
   "source": [
    "# joining locucions files"
   ]
  },
  {
   "cell_type": "code",
   "execution_count": null,
   "metadata": {},
   "outputs": [],
   "source": [
    "locgeo_raw"
   ]
  },
  {
   "cell_type": "code",
   "execution_count": null,
   "metadata": {},
   "outputs": [],
   "source": [
    "locrock_raw"
   ]
  },
  {
   "cell_type": "code",
   "execution_count": null,
   "metadata": {},
   "outputs": [],
   "source": [
    "a1 = '<TagSetFile>\\n'\n",
    "a2 = './tagset.dat\\n'\n",
    "a3 = '</TagSetFile>\\n'\n",
    "a4 = '<Multiwords>\\n'\n",
    "a5 = '\\n</Multiwords>'"
   ]
  },
  {
   "cell_type": "code",
   "execution_count": null,
   "metadata": {},
   "outputs": [],
   "source": [
    "temp = locrock_raw\n",
    "try:\n",
    "    temp = temp[:max(temp.index(a1),0)]+temp[temp.index(a1)+len(a1):]\n",
    "except:\n",
    "    True\n",
    "try:\n",
    "    temp = temp[:max(temp.index(a2),0)]+temp[temp.index(a2)+len(a2):]\n",
    "except:\n",
    "    True\n",
    "try:\n",
    "    temp = temp[:max(temp.index(a3),0)]+temp[temp.index(a3)+len(a3):]\n",
    "except:\n",
    "    True\n",
    "try:\n",
    "    temp = temp[:max(temp.index(a4),0)]+temp[temp.index(a4)+len(a4):]\n",
    "except:\n",
    "    True\n",
    "try:\n",
    "    temp = temp[:max(temp.index(a5),0)]+temp[temp.index(a5)+len(a5):]\n",
    "except:\n",
    "    True\n",
    "locrock_raw1 = temp\n",
    "\n",
    "\n",
    "temp = locgeo_raw\n",
    "try:\n",
    "    temp = temp[:max(temp.index(a1),0)]+temp[temp.index(a1)+len(a1):]\n",
    "except:\n",
    "    True\n",
    "try:\n",
    "    temp = temp[:max(temp.index(a2),0)]+temp[temp.index(a2)+len(a2):]\n",
    "except:\n",
    "    True\n",
    "try:\n",
    "    temp = temp[:max(temp.index(a3),0)]+temp[temp.index(a3)+len(a3):]\n",
    "except:\n",
    "    True\n",
    "try:\n",
    "    temp = temp[:max(temp.index(a4),0)]+temp[temp.index(a4)+len(a4):]\n",
    "except:\n",
    "    True\n",
    "try:\n",
    "    temp = temp[:max(temp.index(a5),0)]+temp[temp.index(a5)+len(a5):]\n",
    "except:\n",
    "    True\n",
    "locgeo_raw1 = temp"
   ]
  },
  {
   "cell_type": "code",
   "execution_count": null,
   "metadata": {},
   "outputs": [],
   "source": [
    "t = time.time()\n",
    "temp = locrock_raw1\n",
    "\n",
    "destination = []\n",
    "n = '\\n'\n",
    "while True:\n",
    "    try:\n",
    "        destination.append(temp[:temp.index(n)+len(n)])\n",
    "        temp = temp[temp.index(n)+len(n):]\n",
    "    except:\n",
    "        destination.append(temp)\n",
    "        break\n",
    "locrock_raw2 = destination\n",
    "print(time.time()-t)\n",
    "\n",
    "t = time.time()\n",
    "temp = locgeo_raw1\n",
    "\n",
    "destination = []\n",
    "n = '\\n'\n",
    "while True:\n",
    "    try:\n",
    "        destination.append(temp[:temp.index(n)+len(n)])\n",
    "        temp = temp[temp.index(n)+len(n):]\n",
    "    except:\n",
    "        destination.append(temp)\n",
    "        break\n",
    "locgeo_raw2 = destination\n",
    "print(time.time()-t)"
   ]
  },
  {
   "cell_type": "code",
   "execution_count": null,
   "metadata": {},
   "outputs": [],
   "source": [
    "locboth1 = locgeo_raw2 + locrock_raw2\n",
    "locboth2 = list(set(locboth1))\n",
    "locboth2.sort()"
   ]
  },
  {
   "cell_type": "code",
   "execution_count": null,
   "metadata": {},
   "outputs": [],
   "source": [
    "temp = ''\n",
    "\n",
    "for n,s in enumerate(locboth2):\n",
    "    temp = temp + s\n",
    "locboth3 = temp"
   ]
  },
  {
   "cell_type": "code",
   "execution_count": null,
   "metadata": {},
   "outputs": [],
   "source": [
    "locboth4_final = a1 + a2 + a3 + a4 + locboth3 + a5"
   ]
  },
  {
   "cell_type": "code",
   "execution_count": null,
   "metadata": {},
   "outputs": [],
   "source": [
    "locboth4_final"
   ]
  },
  {
   "cell_type": "code",
   "execution_count": null,
   "metadata": {},
   "outputs": [],
   "source": [
    "f = open(os.path.expanduser(\"~/Desktop/locucionsBoth.dat\"), 'w')\n",
    "f.write(locboth4_final)\n",
    "f.close()"
   ]
  },
  {
   "cell_type": "code",
   "execution_count": null,
   "metadata": {},
   "outputs": [],
   "source": [
    "print(time.time() - full_time)"
   ]
  },
  {
   "cell_type": "markdown",
   "metadata": {},
   "source": [
    "# locucions files joined"
   ]
  },
  {
   "cell_type": "markdown",
   "metadata": {},
   "source": [
    "# joining xwn files"
   ]
  },
  {
   "cell_type": "code",
   "execution_count": null,
   "metadata": {},
   "outputs": [],
   "source": [
    "xwnrock_raw"
   ]
  },
  {
   "cell_type": "code",
   "execution_count": null,
   "metadata": {},
   "outputs": [],
   "source": [
    "xwngeo_raw"
   ]
  },
  {
   "cell_type": "code",
   "execution_count": null,
   "metadata": {},
   "outputs": [],
   "source": [
    "# this takes 12 minutes\n",
    "t = time.time()\n",
    "temp = xwnrock_raw\n",
    "\n",
    "destination = []\n",
    "n = '\\n'\n",
    "while len(temp)>0:\n",
    "    destination.append(temp[:temp.index(n)+len(n)])\n",
    "    temp = temp[temp.index(n)+len(n):]\n",
    "xwnrock_raw2 = destination\n",
    "print(time.time()-t)"
   ]
  },
  {
   "cell_type": "code",
   "execution_count": null,
   "metadata": {},
   "outputs": [],
   "source": [
    "# this takes 12,5 minutes\n",
    "t = time.time()\n",
    "temp = xwngeo_raw\n",
    "\n",
    "destination = []\n",
    "n = '\\n'\n",
    "while len(temp)>0:\n",
    "    destination.append(temp[:temp.index(n)+len(n)])\n",
    "    temp = temp[temp.index(n)+len(n):]\n",
    "xwngeo_raw2 = destination\n",
    "print(time.time()-t)"
   ]
  },
  {
   "cell_type": "code",
   "execution_count": null,
   "metadata": {},
   "outputs": [],
   "source": [
    "xwnboth1 = xwngeo_raw2 + xwnrock_raw2\n",
    "xwnboth2 = list(set(xwnboth1))\n",
    "xwnboth2.sort()"
   ]
  },
  {
   "cell_type": "code",
   "execution_count": null,
   "metadata": {},
   "outputs": [],
   "source": [
    "temp = ''\n",
    "\n",
    "for n,s in enumerate(xwnboth2):\n",
    "    temp = temp + s\n",
    "xwnboth3_final = temp"
   ]
  },
  {
   "cell_type": "code",
   "execution_count": null,
   "metadata": {},
   "outputs": [],
   "source": [
    "f = open(os.path.expanduser(\"~/Desktop/xwnBoth.dat\"), 'w')\n",
    "f.write(xwnboth3_final)\n",
    "f.close()"
   ]
  },
  {
   "cell_type": "code",
   "execution_count": null,
   "metadata": {},
   "outputs": [],
   "source": [
    "print(time.time() - full_time)"
   ]
  },
  {
   "cell_type": "markdown",
   "metadata": {},
   "source": [
    "# xwn files joined"
   ]
  },
  {
   "cell_type": "markdown",
   "metadata": {},
   "source": [
    "# joining sense files"
   ]
  },
  {
   "cell_type": "code",
   "execution_count": null,
   "metadata": {},
   "outputs": [],
   "source": [
    "sensesrock_raw"
   ]
  },
  {
   "cell_type": "code",
   "execution_count": null,
   "metadata": {},
   "outputs": [],
   "source": [
    "t = time.time()\n",
    "temp = sensesrock_raw\n",
    "\n",
    "destination = []\n",
    "n = '\\n'\n",
    "while len(temp)>0:\n",
    "    destination.append(temp[:temp.index(n)+len(n)])\n",
    "    temp = temp[temp.index(n)+len(n):]\n",
    "sensesrock_raw2 = destination\n",
    "print(time.time()-t)"
   ]
  },
  {
   "cell_type": "code",
   "execution_count": null,
   "metadata": {},
   "outputs": [],
   "source": [
    "t = time.time()\n",
    "temp = sensesgeo_raw\n",
    "\n",
    "destination = []\n",
    "n = '\\n'\n",
    "while len(temp)>0:\n",
    "    destination.append(temp[:temp.index(n)+len(n)])\n",
    "    temp = temp[temp.index(n)+len(n):]\n",
    "sensesgeo_raw2 = destination\n",
    "print(time.time()-t)"
   ]
  },
  {
   "cell_type": "code",
   "execution_count": null,
   "metadata": {},
   "outputs": [],
   "source": [
    "sensesboth1 = sensesgeo_raw2 + sensesrock_raw2\n",
    "sensesboth2 = list(set(sensesboth1))\n",
    "sensesboth2.sort()"
   ]
  },
  {
   "cell_type": "code",
   "execution_count": null,
   "metadata": {},
   "outputs": [],
   "source": [
    "temp = ''\n",
    "\n",
    "for n,s in enumerate(xwnboth2):\n",
    "    temp = temp + s\n",
    "xwnboth3_final = temp"
   ]
  },
  {
   "cell_type": "code",
   "execution_count": null,
   "metadata": {},
   "outputs": [],
   "source": [
    "f = open(os.path.expanduser(\"~/Desktop/senses30Both.src\"), 'w')\n",
    "f.write(xwnboth3_final)\n",
    "f.close()"
   ]
  },
  {
   "cell_type": "code",
   "execution_count": null,
   "metadata": {},
   "outputs": [],
   "source": [
    "print(time.time() - full_time)"
   ]
  },
  {
   "cell_type": "markdown",
   "metadata": {},
   "source": [
    "# senses files joined"
   ]
  },
  {
   "cell_type": "code",
   "execution_count": null,
   "metadata": {},
   "outputs": [],
   "source": []
  }
 ],
 "metadata": {
  "kernelspec": {
   "display_name": "Python 3",
   "language": "python",
   "name": "python3"
  },
  "language_info": {
   "codemirror_mode": {
    "name": "ipython",
    "version": 3
   },
   "file_extension": ".py",
   "mimetype": "text/x-python",
   "name": "python",
   "nbconvert_exporter": "python",
   "pygments_lexer": "ipython3",
   "version": "3.7.6"
  }
 },
 "nbformat": 4,
 "nbformat_minor": 2
}
